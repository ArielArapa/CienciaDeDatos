{
 "cells": [
  {
   "cell_type": "markdown",
   "id": "43b5a670",
   "metadata": {},
   "source": [
    "# Ejercicio 1"
   ]
  },
  {
   "cell_type": "markdown",
   "id": "60ab2c72",
   "metadata": {},
   "source": [
    "Escribir un programa que muestre por pantalla la cadena ¡Hola Mundo!"
   ]
  },
  {
   "cell_type": "code",
   "execution_count": 2,
   "id": "c01bf866",
   "metadata": {},
   "outputs": [
    {
     "name": "stdout",
     "output_type": "stream",
     "text": [
      "¡Hola Mundo!\n"
     ]
    }
   ],
   "source": [
    "print(\"¡Hola Mundo!\")"
   ]
  },
  {
   "cell_type": "markdown",
   "id": "ebdac502",
   "metadata": {},
   "source": [
    "# Ejercicio 2"
   ]
  },
  {
   "cell_type": "markdown",
   "id": "d6f73439",
   "metadata": {},
   "source": [
    "Escribir un programa que almacene la cadena ¡Hola Mundo! en una variable y luego muestre por pantalla el contenido de la variable."
   ]
  },
  {
   "cell_type": "code",
   "execution_count": 3,
   "id": "6c930699",
   "metadata": {},
   "outputs": [
    {
     "name": "stdout",
     "output_type": "stream",
     "text": [
      "!Hola Mundo!\n"
     ]
    }
   ],
   "source": [
    "saludo = \"!Hola Mundo!\"\n",
    "print(saludo)"
   ]
  },
  {
   "cell_type": "markdown",
   "id": "93d76415",
   "metadata": {},
   "source": [
    "# Ejercicio 3"
   ]
  },
  {
   "cell_type": "markdown",
   "id": "9f07c0eb",
   "metadata": {},
   "source": [
    "Escribir un programa que pregunte el nombre del usuario en la consola y después de que el usuario lo introduzca muestre por pantalla la cadena ¡Hola !, donde es el nombre que el usuario haya introducido."
   ]
  },
  {
   "cell_type": "code",
   "execution_count": 4,
   "id": "4647f9ca",
   "metadata": {},
   "outputs": [
    {
     "name": "stdout",
     "output_type": "stream",
     "text": [
      "Ingrese su nombre: Ariel\n",
      "¡Hola  Ariel !\n"
     ]
    }
   ],
   "source": [
    "nombre = input(\"Ingrese su nombre: \")\n",
    "print (\"¡Hola\", nombre, \"!\")"
   ]
  },
  {
   "cell_type": "markdown",
   "id": "0f89bde7",
   "metadata": {},
   "source": [
    "# Ejercicio 4"
   ]
  },
  {
   "cell_type": "markdown",
   "id": "88e4a682",
   "metadata": {},
   "source": [
    "Escribir un programa que muestre por pantalla el resultado de la siguiente operación aritmética: 3 mas 2 dividido 2 por 5, todo al cuadrado."
   ]
  },
  {
   "cell_type": "code",
   "execution_count": 7,
   "id": "c09d090d",
   "metadata": {},
   "outputs": [],
   "source": [
    "subResultado = (3 + 2) / (2 * 5)"
   ]
  },
  {
   "cell_type": "code",
   "execution_count": 8,
   "id": "ed6d7248",
   "metadata": {},
   "outputs": [
    {
     "name": "stdout",
     "output_type": "stream",
     "text": [
      "El resultado es 0.25\n"
     ]
    }
   ],
   "source": [
    "resultado = subResultado ** 2\n",
    "print(\"El resultado es\", resultado)"
   ]
  },
  {
   "cell_type": "markdown",
   "id": "8bbb4480",
   "metadata": {},
   "source": [
    "# Ejercicio 5"
   ]
  },
  {
   "cell_type": "markdown",
   "id": "25fdfdec",
   "metadata": {},
   "source": [
    "Escribir un programa que pregunte al usuario por el número de horas trabajadas y el coste por hora. Después debe mostrar por pantalla la paga que le corresponde."
   ]
  },
  {
   "cell_type": "code",
   "execution_count": 18,
   "id": "83513827",
   "metadata": {},
   "outputs": [
    {
     "name": "stdout",
     "output_type": "stream",
     "text": [
      "Ingrese las horas trabajas: 9\n"
     ]
    }
   ],
   "source": [
    "horas = input(\"Ingrese las horas trabajas: \")\n",
    "horasTrabajadas = int(horas)"
   ]
  },
  {
   "cell_type": "code",
   "execution_count": 19,
   "id": "5643ab6a",
   "metadata": {},
   "outputs": [
    {
     "name": "stdout",
     "output_type": "stream",
     "text": [
      "Ingrese el costo por hora: 300\n"
     ]
    }
   ],
   "source": [
    "coste = input(\"Ingrese el costo por hora: \")\n",
    "costePorHora = int(coste)"
   ]
  },
  {
   "cell_type": "code",
   "execution_count": 24,
   "id": "d1481d37",
   "metadata": {},
   "outputs": [],
   "source": [
    "costeTotal = horasTrabajadas * costePorHora"
   ]
  },
  {
   "cell_type": "code",
   "execution_count": 25,
   "id": "f7643e7b",
   "metadata": {},
   "outputs": [
    {
     "name": "stdout",
     "output_type": "stream",
     "text": [
      "Su paga es de $2700\n"
     ]
    }
   ],
   "source": [
    "print(\"Su paga es de $\" + str(costeTotal))"
   ]
  },
  {
   "cell_type": "markdown",
   "id": "b6950e0f",
   "metadata": {},
   "source": [
    "# Ejercicio 6"
   ]
  },
  {
   "cell_type": "markdown",
   "id": "b7458370",
   "metadata": {},
   "source": [
    "Escribir un programa que lea un entero positivo, n, introducido por el usuario y después muestre en pantalla la suma de todos los enteros desde 1 hasta n. La suma de los primeros enteros positivos puede ser calculada de la siguiente forma:"
   ]
  },
  {
   "cell_type": "code",
   "execution_count": 31,
   "id": "7b075362",
   "metadata": {},
   "outputs": [
    {
     "name": "stdout",
     "output_type": "stream",
     "text": [
      "Ingrese un numero entere positivo: 20\n"
     ]
    }
   ],
   "source": [
    "num = input(\"Ingrese un numero entere positivo: \")\n",
    "n = int(num)"
   ]
  },
  {
   "cell_type": "code",
   "execution_count": 32,
   "id": "8b66697d",
   "metadata": {},
   "outputs": [],
   "source": [
    "suma = (n * (n + 1)) / 2"
   ]
  },
  {
   "cell_type": "code",
   "execution_count": 33,
   "id": "fcb6d2d2",
   "metadata": {},
   "outputs": [
    {
     "name": "stdout",
     "output_type": "stream",
     "text": [
      "El resultado es 210.0\n"
     ]
    }
   ],
   "source": [
    "print (\"El resultado es \" + str(suma))"
   ]
  },
  {
   "cell_type": "markdown",
   "id": "23e52fe6",
   "metadata": {},
   "source": [
    "# Ejercicio 7"
   ]
  },
  {
   "cell_type": "markdown",
   "id": "5eabfc9a",
   "metadata": {},
   "source": [
    "Escribir un programa que pida al usuario su peso (en kg) y estatura (en metros), calcule el índice de masa corporal y lo almacene en una variable, y muestre por pantalla la frase \"Tu índice de masa corporal es \" donde es el índice de masa corporal calculado redondeado con dos decimales."
   ]
  },
  {
   "cell_type": "code",
   "execution_count": 34,
   "id": "6b048d5a",
   "metadata": {},
   "outputs": [
    {
     "name": "stdout",
     "output_type": "stream",
     "text": [
      "Ingrese su peso en kg: 63\n"
     ]
    }
   ],
   "source": [
    "x = input(\"Ingrese su peso en kg: \")\n",
    "peso = int(x)"
   ]
  },
  {
   "cell_type": "code",
   "execution_count": 35,
   "id": "ac322530",
   "metadata": {},
   "outputs": [
    {
     "name": "stdout",
     "output_type": "stream",
     "text": [
      "Ingrese su altura en metros: 1.70\n"
     ]
    }
   ],
   "source": [
    "y = input(\"Ingrese su altura en metros: \")\n",
    "altura = float(y)"
   ]
  },
  {
   "cell_type": "code",
   "execution_count": 36,
   "id": "6071fc7c",
   "metadata": {},
   "outputs": [],
   "source": [
    "indiceMasaCorporal = peso / (altura * altura)"
   ]
  },
  {
   "cell_type": "code",
   "execution_count": 37,
   "id": "612e9de3",
   "metadata": {},
   "outputs": [
    {
     "name": "stdout",
     "output_type": "stream",
     "text": [
      "Tu indeice de masa corporal es 21.79930795847751\n"
     ]
    }
   ],
   "source": [
    "print (\"Tu indeice de masa corporal es \" + str(indiceMasaCorporal))"
   ]
  },
  {
   "cell_type": "code",
   "execution_count": null,
   "id": "c9f29e2e",
   "metadata": {},
   "outputs": [],
   "source": []
  }
 ],
 "metadata": {
  "kernelspec": {
   "display_name": "Python 3 (ipykernel)",
   "language": "python",
   "name": "python3"
  },
  "language_info": {
   "codemirror_mode": {
    "name": "ipython",
    "version": 3
   },
   "file_extension": ".py",
   "mimetype": "text/x-python",
   "name": "python",
   "nbconvert_exporter": "python",
   "pygments_lexer": "ipython3",
   "version": "3.9.12"
  }
 },
 "nbformat": 4,
 "nbformat_minor": 5
}
